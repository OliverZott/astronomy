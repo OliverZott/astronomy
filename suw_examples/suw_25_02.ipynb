{
 "cells": [
  {
   "cell_type": "markdown",
   "metadata": {},
   "source": [
    "# SuW 2025 - 02 "
   ]
  },
  {
   "cell_type": "code",
   "execution_count": 2,
   "metadata": {},
   "outputs": [],
   "source": [
    "import math\n"
   ]
  },
  {
   "cell_type": "code",
   "execution_count": null,
   "metadata": {},
   "outputs": [
    {
     "name": "stdout",
     "output_type": "stream",
     "text": [
      "26179.93877991494\n",
      "7.272205216643039\n"
     ]
    }
   ],
   "source": [
    "# Exercise 2 - Satelite velocity\n",
    "\n",
    "R_earth = 64000  # Radius earth [km]\n",
    "D_geo = 36000 + R_earth  # Distance geostationary orbit [km]\n",
    "U_geo = 2 * D_geo * math.pi  # Circumference geostationary orbit [km]\n",
    "\n",
    "V_geo = U_geo / 24  # Velocity geostationary orbit [km/h]\n",
    "print(V_geo)\n",
    "V_geo = V_geo / (60 * 60)  # Velocity geostationary orbit [km/s]\n",
    "print(V_geo)\n"
   ]
  },
  {
   "cell_type": "code",
   "execution_count": 10,
   "metadata": {},
   "outputs": [
    {
     "name": "stdout",
     "output_type": "stream",
     "text": [
      "0.64\n",
      "0.694498265626556\n",
      "39.791819499557235\n"
     ]
    }
   ],
   "source": [
    "# Exercise 2 - Max visible angle\n",
    "\n",
    "delta_max = R_earth / D_geo  # Max visible angle [rad]\n",
    "print(delta_max)\n",
    "math.asin(delta_max)  # Max visible angle [deg]\n",
    "print(math.asin(delta_max))\n",
    "print(math.degrees(math.asin(delta_max)))\n"
   ]
  },
  {
   "cell_type": "code",
   "execution_count": null,
   "metadata": {},
   "outputs": [],
   "source": [
    "# Exercise 3 -"
   ]
  }
 ],
 "metadata": {
  "kernelspec": {
   "display_name": "venv",
   "language": "python",
   "name": "python3"
  },
  "language_info": {
   "codemirror_mode": {
    "name": "ipython",
    "version": 3
   },
   "file_extension": ".py",
   "mimetype": "text/x-python",
   "name": "python",
   "nbconvert_exporter": "python",
   "pygments_lexer": "ipython3",
   "version": "3.13.2"
  }
 },
 "nbformat": 4,
 "nbformat_minor": 2
}
