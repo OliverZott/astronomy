{
 "cells": [
  {
   "cell_type": "markdown",
   "metadata": {},
   "source": [
    "# SuW 2024 - 09 \n",
    "\n",
    "https://ned.ipac.caltech.edu/help/cosmology_calc.html\n",
    "\n",
    "\n",
    "- [Star HR2933 p.9](#star-hr2933)\n",
    "- [Exercises (Schwarzschild radius) p.24](#schwarzschild-radius)"
   ]
  },
  {
   "cell_type": "code",
   "execution_count": 9,
   "metadata": {},
   "outputs": [],
   "source": [
    "import math\n",
    "\n",
    "import matplotlib.pyplot as plt\n",
    "import numpy as np\n"
   ]
  },
  {
   "cell_type": "markdown",
   "metadata": {},
   "source": [
    "## Star HR2933\n"
   ]
  },
  {
   "cell_type": "markdown",
   "metadata": {},
   "source": [
    "- Parallaxes\n",
    "- abs./rel. mag\n",
    "- DR3 \n",
    "\n",
    "Spectral type: F0Ib  \n",
    "\n",
    "\n",
    "[Simbad](http://simbad.cds.unistra.fr/simbad/sim-basic?Ident=HR2933&submit=SIMBAD+search)  \n",
    "[Aladin](http://aladin.cds.unistra.fr/AladinLite/)  \n",
    "[CDS](http://cdsportal.u-strasbg.fr/?target=HD%20%2061227%20)  \n",
    "\n",
    "\n",
    "1. Measured: parallaxes $\\phi = 0.5937$ mas  \n",
    "    - -> distance in pc\n",
    "1. Measured: Relative magnitude: $m = 6.361$\n",
    "    - [Photometric system](https://en.wikipedia.org/wiki/Photometric_system#Photometric_letters)  \n",
    "    - -> absolute magnitude M\n",
    "\n",
    "\n",
    "### Parallaxes\n",
    "\n",
    "$$\n",
    "\\begin{align}\n",
    "d &= \\frac{AU}{\\tan(\\phi)} \\quad \\longrightarrow \\quad \\phi << 1 \\quad \\Longrightarrow \\quad \\tan(\\phi)\\approx \\phi    \\\\\n",
    "d &= \\frac{1}{\\phi}, \\quad \\text{for d in parsec}              \\\\\n",
    "\\end{align}\n",
    "$$\n",
    "\n",
    "### Distance Modulus\n",
    "d... distance in parsec\n",
    "\n",
    "$$\n",
    "\\begin{align}\n",
    "m - M = 5 \\log_{10} \\left( d \\right) - 5\\\\\n",
    "\\end{align}\n",
    "$$"
   ]
  },
  {
   "cell_type": "code",
   "execution_count": 10,
   "metadata": {},
   "outputs": [
    {
     "name": "stdout",
     "output_type": "stream",
     "text": [
      "arcmin: 0.000290888208666\n",
      "arcsec: 0.000004848136811\n",
      "6.283185307179586\n",
      "6.283185307179586\n"
     ]
    }
   ],
   "source": [
    "# Arcmin / Arcsec\n",
    "\n",
    "arcmin = math.pi / (180 * 60)\n",
    "arcsec = math.pi / (180 * 60 * 60)\n",
    "\n",
    "print(f\"arcmin: {arcmin:.15f}\")\n",
    "print(f\"arcsec: {arcsec:.15f}\")\n",
    "\n",
    "\n",
    "# Rad / Deg\n",
    "\n",
    "print(np.radians(360))\n",
    "print(2 * math.pi)"
   ]
  },
  {
   "cell_type": "code",
   "execution_count": 11,
   "metadata": {},
   "outputs": [
    {
     "name": "stdout",
     "output_type": "stream",
     "text": [
      "Distance of HR2933: 1684.352[pc], 5490.989[ly]\n"
     ]
    }
   ],
   "source": [
    "# Distance of HR2933\n",
    "\n",
    "hr2933_paralax = 0.5937 * 10 ** (-3)  # hr2933_paralax ... Parallaxes (mas)\n",
    "\n",
    "hr2933_distance_pc = 1 / hr2933_paralax\n",
    "\n",
    "print(f\"Distance of HR2933: {hr2933_distance_pc:.3f}[pc], {hr2933_distance_pc*3.26:.3f}[ly]\")"
   ]
  },
  {
   "cell_type": "code",
   "execution_count": 12,
   "metadata": {},
   "outputs": [
    {
     "name": "stdout",
     "output_type": "stream",
     "text": [
      "-4.771164755369708\n"
     ]
    }
   ],
   "source": [
    "# Absolute Magnitude\n",
    "\n",
    "hr2933_rel_mag = 6.361\n",
    "\n",
    "hr2933_abs_mag = -(5 * np.log10(hr2933_distance_pc) - 5 - hr2933_rel_mag)\n",
    "\n",
    "print(hr2933_abs_mag)\n"
   ]
  },
  {
   "cell_type": "code",
   "execution_count": 13,
   "metadata": {},
   "outputs": [
    {
     "name": "stdout",
     "output_type": "stream",
     "text": [
      "6736.989991257873\n"
     ]
    }
   ],
   "source": [
    "# Comparison Sun\n",
    "\n",
    "sun_abs_mag = 4.8\n",
    "\n",
    "mag_steps = 100 ** (1 / 5)\n",
    "\n",
    "mag_diff = sun_abs_mag - hr2933_abs_mag\n",
    "print(mag_steps**mag_diff)"
   ]
  },
  {
   "cell_type": "markdown",
   "metadata": {},
   "source": [
    "## Schwarzschild radius"
   ]
  },
  {
   "cell_type": "markdown",
   "metadata": {},
   "source": [
    "1. Derive schwarzschild radius by escape velocity:\n",
    "\n",
    "$$\n",
    "\\begin{align}\n",
    "\\text{Escape velocity:} \\quad v_{esc} &= \\sqrt{\\frac{2GM}{r}} \\quad \\text{ for $v_{esc} = c$ (is )speed of light), leads to } \\quad \\\\  \n",
    "\\text{Schwarzschild radius:} \\quad R_s &= \\frac{2GM}{c^2} \\\\\n",
    "\\end{align} \\\\\n",
    "$$\n",
    "\n",
    "2. Compactness C of a star\n",
    "\n",
    "    - $C = \\frac{M}{R} \\quad \\text{with}$\n",
    "    - $M$... mass\n",
    "    - $R$... radius\n",
    "\n",
    "3. Astrophysical compactness\n",
    "\n",
    "    - $C = \\frac{R_s}{R} \\quad \\text{with}$\n",
    "    - $R_s$... Schwarzschild radius\n",
    "    - $R$... radius\n",
    "\n",
    "$$\n",
    "\\begin{align}\n",
    "C = \\frac{R_s}{R} \\quad \\Rightarrow \\quad  C = \\frac{\\frac{2GM}{c^2}}{R} \\quad \\Rightarrow \\quad C &= \\frac{2GM}{Rc^2} \\quad \\\\  \n",
    "\\text{the factor 2 is ignored which leads to: } \\quad C &= \\frac{GM}{Rc^2}\n",
    "\\end{align} \\\\\n",
    "$$    "
   ]
  },
  {
   "cell_type": "code",
   "execution_count": 14,
   "metadata": {},
   "outputs": [],
   "source": [
    "# Constants\n",
    "\n",
    "G = 6.67 * 10 ** (-11)  # Gravitational constant in m^3*kg^-1*s^-2\n",
    "c = 3 * 10**8  # Speed of light in m/s\n",
    "sun_mass = 2 * 10**30  # Mass of the sun in kg\n",
    "sun_radius = 696000 * 10**3  # Radius of the sun in m\n",
    "earth_mass = 6 * 10**24  # Mass of earth in kg\n",
    "earth_radius = 6380 * 10**3  # Radius of earth in m\n",
    "white_dwarf_mass = sun_mass  # Mass of a white dwarf example\n",
    "white_dwarf_radius = 6000 * 10**3  # Radius of a white dwarf example\n",
    "neutron_star_mass = 4.2 * 10**30  # Mass of a neutron star example in kg\n",
    "neutron_star_radius = 20 * 10**3  # Radius of a neutron star example in m\n",
    "\n",
    "# 1. Schwarzschild radius function\n",
    "\n",
    "\n",
    "def schwarzschild_radius(m: float) -> float:\n",
    "    return (2 * G * m) / (c**2)\n",
    "\n",
    "\n",
    "def compactness(m: float, r: float) -> float:\n",
    "    \"\"\"\n",
    "    arguments: mass m / sschwarzschild radius r\n",
    "    \"\"\"\n",
    "    return (G * m) / (r * c**2)\n"
   ]
  },
  {
   "cell_type": "code",
   "execution_count": 15,
   "metadata": {},
   "outputs": [
    {
     "name": "stdout",
     "output_type": "stream",
     "text": [
      "Schwarzschild radius for earth : 8.893 mm\n",
      "Schwarzschild radius for sun : 2964.444 m\n",
      "Schwarzschild radius for 5 sun masses: 1.482e+04 m\n",
      "Schwarzschild radius for 50 million sun masses: 1.482e+11 m\n",
      "\n",
      "Compactness of the sun: 2.873563218390805e+24\n",
      "Compactness of the earth: 0.0003272727272727272 [C_sun]\n",
      "Compactness of the earth: 3.273e-04 [C_sun]\n",
      "Compactness of a white dwarf: 115.99999999999999 [C_sun]\n",
      "Compactness of a white dwarf: 1.160e+02 [C_sun]\n",
      "Compactness of a neutron star: 7.308e+04 [C_sun]\n",
      "Compactness of a M1 (5 sun masses): 2.348e+05 [C_sun]\n",
      "Compactness of a M2 (50 million sun masses): 2.348e+05 [C_sun]\n",
      "\n",
      "Compactness of sun: 2.1296296296296294e-06\n",
      "Compactness of 20 sun masses: 4.259259259259259e-05\n"
     ]
    }
   ],
   "source": [
    "# 2. Schwarzschild radius examples\n",
    "\n",
    "M1_mass = 5 * sun_mass\n",
    "M2_mass = 50 * 10**6 * sun_mass\n",
    "\n",
    "\n",
    "print(f\"Schwarzschild radius for earth : {schwarzschild_radius(earth_mass)*10**3:.3f} mm\")\n",
    "print(f\"Schwarzschild radius for sun : {schwarzschild_radius(sun_mass):.3f} m\")\n",
    "print(f\"Schwarzschild radius for 5 sun masses: {schwarzschild_radius(M1_mass):.3e} m\")\n",
    "print(f\"Schwarzschild radius for 50 million sun masses: {schwarzschild_radius(M2_mass):.3e} m\")\n",
    "print()\n",
    "\n",
    "# 3. Compactness\n",
    "\n",
    "C_sun = sun_mass / (sun_radius / 10**3)\n",
    "C_earth = earth_mass / (earth_radius / 10**3)\n",
    "C_white_dwarf = white_dwarf_mass / (white_dwarf_radius / 10**3)\n",
    "C_neutron_star = neutron_star_mass / (neutron_star_radius / 10**3)\n",
    "C_M1 = M1_mass / (schwarzschild_radius(M1_mass) / 10**3)\n",
    "C_M2 = M2_mass / (schwarzschild_radius(M2_mass) / 10**3)\n",
    "\n",
    "print(f\"Compactness of the sun: {C_sun}\")\n",
    "print(f\"Compactness of the earth: {C_earth/C_sun} [C_sun]\")\n",
    "print(f\"Compactness of the earth: {C_earth/C_sun:.3e} [C_sun]\")\n",
    "print(f\"Compactness of a white dwarf: {C_white_dwarf/C_sun} [C_sun]\")\n",
    "print(f\"Compactness of a white dwarf: {C_white_dwarf/C_sun:.3e} [C_sun]\")\n",
    "print(f\"Compactness of a neutron star: {C_neutron_star/C_sun:.3e} [C_sun]\")\n",
    "print(f\"Compactness of a M1 (5 sun masses): {C_M1/C_sun:.3e} [C_sun]\")\n",
    "print(f\"Compactness of a M2 (50 million sun masses): {C_M2/C_sun:.3e} [C_sun]\")\n",
    "print()\n",
    "\n",
    "\n",
    "# 3. Compactness\n",
    "\n",
    "print(f\"Compactness of sun: {compactness(sun_mass, sun_radius)}\")\n",
    "print(f\"Compactness of 20 sun masses: {compactness(20*sun_mass, sun_radius)}\")\n"
   ]
  },
  {
   "cell_type": "markdown",
   "metadata": {},
   "source": [
    "## Tangens Approximation"
   ]
  },
  {
   "cell_type": "code",
   "execution_count": 16,
   "metadata": {},
   "outputs": [
    {
     "name": "stdout",
     "output_type": "stream",
     "text": [
      "Angle: 0.000000000000000 radians, Tangent: 0.000000000000000, Difference: 0.000000000000000\n",
      "Angle: 0.000010101010101 radians, Tangent: 0.000010101010101, Difference: -0.000000000000000\n",
      "Angle: 0.000020202020202 radians, Tangent: 0.000020202020205, Difference: -0.000000000000003\n",
      "Angle: 0.000030303030303 radians, Tangent: 0.000030303030312, Difference: -0.000000000000009\n",
      "Angle: 0.000040404040404 radians, Tangent: 0.000040404040426, Difference: -0.000000000000022\n",
      "Angle: 0.000050505050505 radians, Tangent: 0.000050505050548, Difference: -0.000000000000043\n",
      "Angle: 0.000060606060606 radians, Tangent: 0.000060606060680, Difference: -0.000000000000074\n",
      "Angle: 0.000070707070707 radians, Tangent: 0.000070707070825, Difference: -0.000000000000118\n",
      "Angle: 0.000080808080808 radians, Tangent: 0.000080808080984, Difference: -0.000000000000176\n",
      "Angle: 0.000090909090909 radians, Tangent: 0.000090909091160, Difference: -0.000000000000250\n",
      "Angle: 0.000101010101010 radians, Tangent: 0.000101010101354, Difference: -0.000000000000344\n",
      "Angle: 0.000111111111111 radians, Tangent: 0.000111111111568, Difference: -0.000000000000457\n",
      "Angle: 0.000121212121212 radians, Tangent: 0.000121212121806, Difference: -0.000000000000594\n",
      "Angle: 0.000131313131313 radians, Tangent: 0.000131313132068, Difference: -0.000000000000755\n",
      "Angle: 0.000141414141414 radians, Tangent: 0.000141414142357, Difference: -0.000000000000943\n",
      "Angle: 0.000151515151515 radians, Tangent: 0.000151515152675, Difference: -0.000000000001159\n",
      "Angle: 0.000161616161616 radians, Tangent: 0.000161616163023, Difference: -0.000000000001407\n",
      "Angle: 0.000171717171717 radians, Tangent: 0.000171717173405, Difference: -0.000000000001688\n",
      "Angle: 0.000181818181818 radians, Tangent: 0.000181818183822, Difference: -0.000000000002004\n",
      "Angle: 0.000191919191919 radians, Tangent: 0.000191919194276, Difference: -0.000000000002356\n",
      "Angle: 0.000202020202020 radians, Tangent: 0.000202020204768, Difference: -0.000000000002748\n",
      "Angle: 0.000212121212121 radians, Tangent: 0.000212121215303, Difference: -0.000000000003181\n",
      "Angle: 0.000222222222222 radians, Tangent: 0.000222222225880, Difference: -0.000000000003658\n",
      "Angle: 0.000232323232323 radians, Tangent: 0.000232323236503, Difference: -0.000000000004180\n",
      "Angle: 0.000242424242424 radians, Tangent: 0.000242424247173, Difference: -0.000000000004749\n",
      "Angle: 0.000252525252525 radians, Tangent: 0.000252525257893, Difference: -0.000000000005368\n",
      "Angle: 0.000262626262626 radians, Tangent: 0.000262626268664, Difference: -0.000000000006038\n",
      "Angle: 0.000272727272727 radians, Tangent: 0.000272727279489, Difference: -0.000000000006762\n",
      "Angle: 0.000282828282828 radians, Tangent: 0.000282828290370, Difference: -0.000000000007541\n",
      "Angle: 0.000292929292929 radians, Tangent: 0.000292929301308, Difference: -0.000000000008379\n",
      "Angle: 0.000303030303030 radians, Tangent: 0.000303030312306, Difference: -0.000000000009275\n",
      "Angle: 0.000313131313131 radians, Tangent: 0.000313131323366, Difference: -0.000000000010234\n",
      "Angle: 0.000323232323232 radians, Tangent: 0.000323232334489, Difference: -0.000000000011257\n",
      "Angle: 0.000333333333333 radians, Tangent: 0.000333333345679, Difference: -0.000000000012346\n",
      "Angle: 0.000343434343434 radians, Tangent: 0.000343434356937, Difference: -0.000000000013502\n",
      "Angle: 0.000353535353535 radians, Tangent: 0.000353535368264, Difference: -0.000000000014729\n",
      "Angle: 0.000363636363636 radians, Tangent: 0.000363636379664, Difference: -0.000000000016028\n",
      "Angle: 0.000373737373737 radians, Tangent: 0.000373737391139, Difference: -0.000000000017401\n",
      "Angle: 0.000383838383838 radians, Tangent: 0.000383838402689, Difference: -0.000000000018851\n",
      "Angle: 0.000393939393939 radians, Tangent: 0.000393939414318, Difference: -0.000000000020378\n",
      "Angle: 0.000404040404040 radians, Tangent: 0.000404040426027, Difference: -0.000000000021986\n",
      "Angle: 0.000414141414141 radians, Tangent: 0.000414141437818, Difference: -0.000000000023677\n",
      "Angle: 0.000424242424242 radians, Tangent: 0.000424242449694, Difference: -0.000000000025452\n",
      "Angle: 0.000434343434343 radians, Tangent: 0.000434343461657, Difference: -0.000000000027314\n",
      "Angle: 0.000444444444444 radians, Tangent: 0.000444444473708, Difference: -0.000000000029264\n",
      "Angle: 0.000454545454545 radians, Tangent: 0.000454545485850, Difference: -0.000000000031305\n",
      "Angle: 0.000464646464646 radians, Tangent: 0.000464646498085, Difference: -0.000000000033438\n",
      "Angle: 0.000474747474747 radians, Tangent: 0.000474747510414, Difference: -0.000000000035667\n",
      "Angle: 0.000484848484848 radians, Tangent: 0.000484848522841, Difference: -0.000000000037992\n",
      "Angle: 0.000494949494949 radians, Tangent: 0.000494949535366, Difference: -0.000000000040417\n",
      "Angle: 0.000505050505051 radians, Tangent: 0.000505050547993, Difference: -0.000000000042942\n",
      "Angle: 0.000515151515152 radians, Tangent: 0.000515151560722, Difference: -0.000000000045570\n",
      "Angle: 0.000525252525253 radians, Tangent: 0.000525252573557, Difference: -0.000000000048304\n",
      "Angle: 0.000535353535354 radians, Tangent: 0.000535353586498, Difference: -0.000000000051145\n",
      "Angle: 0.000545454545455 radians, Tangent: 0.000545454599549, Difference: -0.000000000054095\n",
      "Angle: 0.000555555555556 radians, Tangent: 0.000555555612711, Difference: -0.000000000057156\n",
      "Angle: 0.000565656565657 radians, Tangent: 0.000565656625987, Difference: -0.000000000060331\n",
      "Angle: 0.000575757575758 radians, Tangent: 0.000575757639378, Difference: -0.000000000063621\n",
      "Angle: 0.000585858585859 radians, Tangent: 0.000585858652887, Difference: -0.000000000067028\n",
      "Angle: 0.000595959595960 radians, Tangent: 0.000595959666515, Difference: -0.000000000070555\n",
      "Angle: 0.000606060606061 radians, Tangent: 0.000606060680265, Difference: -0.000000000074204\n",
      "Angle: 0.000616161616162 radians, Tangent: 0.000616161694138, Difference: -0.000000000077976\n",
      "Angle: 0.000626262626263 radians, Tangent: 0.000626262708137, Difference: -0.000000000081874\n",
      "Angle: 0.000636363636364 radians, Tangent: 0.000636363722264, Difference: -0.000000000085900\n",
      "Angle: 0.000646464646465 radians, Tangent: 0.000646464736521, Difference: -0.000000000090056\n",
      "Angle: 0.000656565656566 radians, Tangent: 0.000656565750909, Difference: -0.000000000094344\n",
      "Angle: 0.000666666666667 radians, Tangent: 0.000666666765432, Difference: -0.000000000098765\n",
      "Angle: 0.000676767676768 radians, Tangent: 0.000676767780091, Difference: -0.000000000103323\n",
      "Angle: 0.000686868686869 radians, Tangent: 0.000686868794888, Difference: -0.000000000108019\n",
      "Angle: 0.000696969696970 radians, Tangent: 0.000696969809825, Difference: -0.000000000112855\n",
      "Angle: 0.000707070707071 radians, Tangent: 0.000707070824904, Difference: -0.000000000117833\n",
      "Angle: 0.000717171717172 radians, Tangent: 0.000717171840127, Difference: -0.000000000122956\n",
      "Angle: 0.000727272727273 radians, Tangent: 0.000727272855497, Difference: -0.000000000128224\n",
      "Angle: 0.000737373737374 radians, Tangent: 0.000737373871015, Difference: -0.000000000133642\n",
      "Angle: 0.000747474747475 radians, Tangent: 0.000747474886684, Difference: -0.000000000139209\n",
      "Angle: 0.000757575757576 radians, Tangent: 0.000757575902505, Difference: -0.000000000144930\n",
      "Angle: 0.000767676767677 radians, Tangent: 0.000767676918481, Difference: -0.000000000150804\n",
      "Angle: 0.000777777777778 radians, Tangent: 0.000777777934614, Difference: -0.000000000156836\n",
      "Angle: 0.000787878787879 radians, Tangent: 0.000787878950905, Difference: -0.000000000163026\n",
      "Angle: 0.000797979797980 radians, Tangent: 0.000797979967357, Difference: -0.000000000169377\n",
      "Angle: 0.000808080808081 radians, Tangent: 0.000808080983972, Difference: -0.000000000175891\n",
      "Angle: 0.000818181818182 radians, Tangent: 0.000818182000751, Difference: -0.000000000182570\n",
      "Angle: 0.000828282828283 radians, Tangent: 0.000828283017698, Difference: -0.000000000189415\n",
      "Angle: 0.000838383838384 radians, Tangent: 0.000838384034814, Difference: -0.000000000196430\n",
      "Angle: 0.000848484848485 radians, Tangent: 0.000848485052100, Difference: -0.000000000203616\n",
      "Angle: 0.000858585858586 radians, Tangent: 0.000858586069560, Difference: -0.000000000210975\n",
      "Angle: 0.000868686868687 radians, Tangent: 0.000868687087196, Difference: -0.000000000218509\n",
      "Angle: 0.000878787878788 radians, Tangent: 0.000878788105008, Difference: -0.000000000226220\n",
      "Angle: 0.000888888888889 radians, Tangent: 0.000888889123000, Difference: -0.000000000234111\n",
      "Angle: 0.000898989898990 radians, Tangent: 0.000898990141173, Difference: -0.000000000242183\n",
      "Angle: 0.000909090909091 radians, Tangent: 0.000909091159529, Difference: -0.000000000250438\n",
      "Angle: 0.000919191919192 radians, Tangent: 0.000919192178071, Difference: -0.000000000258879\n",
      "Angle: 0.000929292929293 radians, Tangent: 0.000929293196801, Difference: -0.000000000267508\n",
      "Angle: 0.000939393939394 radians, Tangent: 0.000939394215720, Difference: -0.000000000276326\n",
      "Angle: 0.000949494949495 radians, Tangent: 0.000949495234831, Difference: -0.000000000285336\n",
      "Angle: 0.000959595959596 radians, Tangent: 0.000959596254136, Difference: -0.000000000294540\n",
      "Angle: 0.000969696969697 radians, Tangent: 0.000969697273636, Difference: -0.000000000303939\n",
      "Angle: 0.000979797979798 radians, Tangent: 0.000979798293335, Difference: -0.000000000313537\n",
      "Angle: 0.000989898989899 radians, Tangent: 0.000989899313233, Difference: -0.000000000323334\n",
      "Angle: 0.001000000000000 radians, Tangent: 0.001000000333333, Difference: -0.000000000333333\n"
     ]
    },
    {
     "data": {
      "image/png": "[encoded data removed]",
      "text/plain": [
       "<Figure size 640x480 with 1 Axes>"
      ]
     },
     "metadata": {},
     "output_type": "display_data"
    }
   ],
   "source": [
    "# Define the range of angles\n",
    "angles = np.linspace(0, 0.001, 100)\n",
    "\n",
    "# Calculate the tangent values\n",
    "tangent_values = np.tan(angles)\n",
    "\n",
    "# Calculate the differences\n",
    "differences = angles - tangent_values\n",
    "\n",
    "# Print the results with 15 decimal places\n",
    "for angle, tangent, difference in zip(angles, tangent_values, differences):\n",
    "    print(f\"Angle: {angle:.15f} radians, Tangent: {tangent:.15f}, Difference: {difference:.15f}\")\n",
    "\n",
    "# Plot the differences\n",
    "plt.plot(angles, differences, label=\"Difference (angle - tan(angle))\")\n",
    "plt.xlabel(\"Angle (radians)\")\n",
    "plt.ylabel(\"Difference\")\n",
    "plt.title(\"Difference between Angles and their Tangent Values\")\n",
    "plt.legend()\n",
    "plt.grid(True)\n",
    "plt.show()"
   ]
  }
 ],
 "metadata": {
  "kernelspec": {
   "display_name": "Python 3",
   "language": "python",
   "name": "python3"
  },
  "language_info": {
   "codemirror_mode": {
    "name": "ipython",
    "version": 3
   },
   "file_extension": ".py",
   "mimetype": "text/x-python",
   "name": "python",
   "nbconvert_exporter": "python",
   "pygments_lexer": "ipython3",
   "version": "3.12.6"
  }
 },
 "nbformat": 4,
 "nbformat_minor": 2
}
