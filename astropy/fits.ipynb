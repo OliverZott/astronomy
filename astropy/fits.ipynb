{
 "cells": [
  {
   "cell_type": "markdown",
   "metadata": {
    "pycharm": {
     "name": "#%% md\n"
    }
   },
   "source": [
    "# Viewing and manipulating FITS images\n",
    "https://learn.astropy.org/tutorials/FITS-images.html\n",
    "\n",
    "This tutorial demonstrates the use of astropy.utils.data to download a data file, then uses astropy.io.fits to open the file, and lastly uses matplotlib to view the image with different color scales and stretches and to make histograms. In this tutorial we've also included a demonstration of simple image stacking.\n",
    "\n",
    "\n",
    "- Goals:\n",
    "    - Open FITS files and load image data\n",
    "    - Make a 2D histogram with image data\n",
    "    - Stack several images into a single image\n",
    "    - Write image data to a FITS file"
   ]
  },
  {
   "cell_type": "code",
   "execution_count": 1,
   "metadata": {
    "pycharm": {
     "name": "#%%\n"
    }
   },
   "outputs": [],
   "source": [
    "import numpy as np\n",
    "import matplotlib.pyplot as plt\n",
    "\n",
    "%matplotlib inline\n",
    "\n",
    "from astropy.io import fits"
   ]
  },
  {
   "cell_type": "code",
   "execution_count": null,
   "metadata": {
    "pycharm": {
     "name": "#%%\n"
    }
   },
   "outputs": [],
   "source": []
  }
 ],
 "metadata": {
  "interpreter": {
   "hash": "08bfa6ea51fba144a6cd69d26bb81ab71b6804b2e4c584bac58e530b36be06f8"
  },
  "kernelspec": {
   "display_name": "Python 3.10.4 ('astro_env': venv)",
   "language": "python",
   "name": "python3"
  },
  "language_info": {
   "codemirror_mode": {
    "name": "ipython",
    "version": 3
   },
   "file_extension": ".py",
   "mimetype": "text/x-python",
   "name": "python",
   "nbconvert_exporter": "python",
   "pygments_lexer": "ipython3",
   "version": "3.10.4"
  },
  "orig_nbformat": 4
 },
 "nbformat": 4,
 "nbformat_minor": 2
}