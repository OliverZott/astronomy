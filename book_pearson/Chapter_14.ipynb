{
 "cells": [
  {
   "cell_type": "markdown",
   "metadata": {},
   "source": [
    "# Chapter 14 - Nuclear fusion in stars"
   ]
  },
  {
   "cell_type": "code",
   "execution_count": 1,
   "metadata": {},
   "outputs": [],
   "source": [
    "from utils import celestial_objects as co\n",
    "from utils import constants, helpers\n",
    "import math\n",
    "import sys\n",
    "\n",
    "# sys.path.append('C:\\\\repos\\\\astronomy\\\\book_pearson\\\\utils') # windows\n",
    "sys.path.append(\"//home//olli//repos//astronomy//book_pearson//utils\")  # linux"
   ]
  },
  {
   "cell_type": "markdown",
   "metadata": {},
   "source": [
    "## Example 14.1\n",
    "\n",
    "- Mass-energy conversion during nuclear fusion\n",
    "\n",
    "- *Luminosity of the sun*\n",
    "\n",
    "        - https://www.zum.de/Faecher/Materialien/gebhardt/astronomie/leuchtkraft.html"
   ]
  },
  {
   "cell_type": "code",
   "execution_count": 2,
   "metadata": {},
   "outputs": [],
   "source": [
    "# Relative mass loss during hydrogen-fusion\n",
    "def calc_parts_hydrogen_fusion():\n",
    "    \"\"\"\n",
    "    Parts of hydrogen converted to energy during fusion\n",
    "    \"\"\"\n",
    "    diff = 4 * constants.p_m - constants.h_nuc\n",
    "    return diff / (4 * constants.p_m)\n",
    "\n",
    "\n",
    "def calc_amount_oxygen_to_helium(luminosity_star: float):\n",
    "    \"\"\"\n",
    "    Amount of hydrogen fusion to helium each second\n",
    "\n",
    "    Parameters\n",
    "    ----------\n",
    "    Luminosity of the star [Joule/sec]\n",
    "\n",
    "    Returns\n",
    "    -------\n",
    "    Radiant flux in [W/m^2]\n",
    "    \"\"\"\n",
    "\n",
    "    # total mass that is converted to energy each second\n",
    "    mass_to_energy = luminosity_star / (constants._c**2)\n",
    "\n",
    "    return mass_to_energy / calc_parts_hydrogen_fusion()"
   ]
  },
  {
   "cell_type": "code",
   "execution_count": 3,
   "metadata": {},
   "outputs": [
    {
     "name": "stdout",
     "output_type": "stream",
     "text": [
      "7.08e-01\n",
      "5.97e+11\n"
     ]
    }
   ],
   "source": [
    "# Example 14.1\n",
    "\n",
    "# 0.7% of origin proton mass is converted to energy\n",
    "helpers.scientific_print(calc_parts_hydrogen_fusion() * 100)\n",
    "\n",
    "# Example 14.1 - 1\n",
    "helpers.scientific_print(calc_amount_oxygen_to_helium(constants.l_sun))\n"
   ]
  }
 ],
 "metadata": {
  "kernelspec": {
   "display_name": "venv",
   "language": "python",
   "name": "python3"
  },
  "language_info": {
   "codemirror_mode": {
    "name": "ipython",
    "version": 3
   },
   "file_extension": ".py",
   "mimetype": "text/x-python",
   "name": "python",
   "nbconvert_exporter": "python",
   "pygments_lexer": "ipython3",
   "version": "3.11.2"
  },
  "orig_nbformat": 4
 },
 "nbformat": 4,
 "nbformat_minor": 2
}
