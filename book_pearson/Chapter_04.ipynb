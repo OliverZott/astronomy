{
 "cells": [
  {
   "attachments": {},
   "cell_type": "markdown",
   "metadata": {},
   "source": [
    "# Chapter 4 - Basics\n",
    "\n",
    "- Momentum & Force\n",
    "- Newton's law of motion\n",
    "- Conservation laws: Conservation of...\n",
    "    -  linear momentum\n",
    "    - angular momentum\n",
    "    - energy"
   ]
  },
  {
   "cell_type": "code",
   "execution_count": 1,
   "metadata": {},
   "outputs": [],
   "source": [
    "import math\n",
    "import sys\n",
    "# sys.path.append('C:\\\\repos\\\\astronomy\\\\book_pearson\\\\utils') # windows\n",
    "sys.path.append('//home//olli//repos//astronomy//book_pearson//utils')  # linux\n",
    "\n",
    "from utils import constants, helpers\n",
    "from utils import celestial_objects as co\n"
   ]
  },
  {
   "attachments": {},
   "cell_type": "markdown",
   "metadata": {},
   "source": [
    "#### Example 4.1 - 4.4\n",
    "\n",
    "- Newtons 2.nd law   \n",
    "\n",
    "    $ F = m * a$\n",
    "    \n",
    "- Mass equivalence  \n",
    "\n",
    "    $ E=m*c^2 $ \n",
    "\n",
    "- Escape velocity\n",
    "\n",
    "    $ v_{esc} = \\sqrt{2G\\frac{M}{R}} $ \n",
    "\n",
    "- Kepler’s 3.rd law (newton)\n",
    "    - calc mass or distance\n",
    "\n",
    "%%latex\n",
    "\\begin{align}\n",
    "p^2 = \\frac{4\\pi^2}{G(M_1+M_2)a^3} \n",
    "\\end{align}\n",
    "\n",
    "\n",
    "    - `p^2 = (4 * pi^2) / (G * (M_1 + M_1)) * a^3`\n"
   ]
  },
  {
   "attachments": {},
   "cell_type": "markdown",
   "metadata": {},
   "source": [
    "## Example 4.1 - 4.4\n",
    "\n",
    "### Newtons 2.nd law   \n",
    "\n",
    "\n",
    "$$\n",
    "\\begin{align}\n",
    "F = m * a\n",
    "\\end{align}\n",
    "$$\n",
    "    \n",
    "### Mass equivalence  \n",
    "\n",
    "%%latex\n",
    "\\begin{align}\n",
    "E=m*c^2\n",
    "\\end{align}\n",
    "\n",
    "\n",
    "### Escape velocity\n",
    "\n",
    "%%latex\n",
    "\\begin{align}\n",
    "v_{esc} = \\sqrt{2G\\frac{M}{R}}\n",
    "\\end{align}\n",
    "\n",
    "\n",
    "### Kepler’s 3.rd law (newton)\n",
    "- calc mass or distance\n",
    "\n",
    "%%latex\n",
    "\\begin{align}\n",
    "p^2 = \\frac{4\\pi^2}{G(M_1+M_2)a^3} \n",
    "\\end{align}\n",
    "\n",
    "\n",
    "    - `p^2 = (4 * pi^2) / (G * (M_1 + M_1)) * a^3`\n"
   ]
  },
  {
   "attachments": {},
   "cell_type": "markdown",
   "metadata": {},
   "source": [
    "%%latex\n",
    "\\begin{align}\n",
    "p^2 = \\frac{4\\pi^2}{G(M_1+M_2)a^3}\n",
    "\\end{align}"
   ]
  },
  {
   "attachments": {},
   "cell_type": "markdown",
   "metadata": {},
   "source": [
    "$$\n",
    "\\lim_{x\\to0} \\frac{\\sin{x}}{x} = 1\n",
    "$$"
   ]
  },
  {
   "cell_type": "code",
   "execution_count": 2,
   "metadata": {},
   "outputs": [
    {
     "name": "stdout",
     "output_type": "stream",
     "text": [
      "2.00e+30\n",
      "1.92e+08\n"
     ]
    }
   ],
   "source": [
    "# Example 4.3\n",
    "# Calc mass/distance from \"newtons version of keplars 3rd law\"\n",
    "\n",
    "\n",
    "def calc_mass_with_newtons_keplar_law(periode: float, distance: float):\n",
    "    \"\"\"\n",
    "    Calculate mass of a central object using Newtons version of Keplars 3rd law.\n",
    "\n",
    "    Parameter\n",
    "    ---------\n",
    "    periode: float\n",
    "        orbital periode of second object\n",
    "    distance: float\n",
    "        distance between both objects\n",
    "    \n",
    "    Returns\n",
    "    -------\n",
    "    mass: float\n",
    "    \"\"\"\n",
    "    const = 4*math.pi**2 / constants._G\n",
    "    return const / periode**2 * distance**3\n",
    "\n",
    "\n",
    "def calc_distance_with_newtons_keplar_law(periode: float, mass: float):\n",
    "    const = constants._G / 4*math.pi**2\n",
    "    return (const * periode**2 * mass)**(1/3)\n",
    "\n",
    "\n",
    "# Example 1\n",
    "periode_earth = 365.25*24*60*60  # [sec]\n",
    "distance_earth_sun = 1.5 * math.pow(10, 11)  # [m]\n",
    "helpers.scientific_print(calc_mass_with_newtons_keplar_law(\n",
    "    periode_earth, distance_earth_sun))\n",
    "\n",
    "\n",
    "# Example 2\n",
    "periode_satelite = 23.56*60*60  # [sec]\n",
    "helpers.scientific_print(calc_distance_with_newtons_keplar_law(\n",
    "    periode_satelite, co.earth.mass))\n"
   ]
  },
  {
   "cell_type": "code",
   "execution_count": 3,
   "metadata": {},
   "outputs": [
    {
     "name": "stdout",
     "output_type": "stream",
     "text": [
      "2.37e+03\n"
     ]
    }
   ],
   "source": [
    "# Examples 4.4\n",
    "def calc_escape_velocity(mass: float, radius: float) -> float:\n",
    "    \"\"\"\n",
    "    Calculates escape velocity in km/s from a body with given mass and radius.\n",
    "    \"\"\"\n",
    "\n",
    "    v_esc = math.sqrt(2 * constants._G * mass / radius)\n",
    "    return v_esc\n",
    "\n",
    "\n",
    "helpers.scientific_print(calc_escape_velocity(co.moon.mass, co.moon.radius))\n"
   ]
  },
  {
   "cell_type": "code",
   "execution_count": null,
   "metadata": {},
   "outputs": [],
   "source": []
  },
  {
   "cell_type": "code",
   "execution_count": null,
   "metadata": {},
   "outputs": [],
   "source": []
  }
 ],
 "metadata": {
  "kernelspec": {
   "display_name": "venv",
   "language": "python",
   "name": "python3"
  },
  "language_info": {
   "codemirror_mode": {
    "name": "ipython",
    "version": 3
   },
   "file_extension": ".py",
   "mimetype": "text/x-python",
   "name": "python",
   "nbconvert_exporter": "python",
   "pygments_lexer": "ipython3",
   "version": "3.10.7"
  },
  "orig_nbformat": 4,
  "vscode": {
   "interpreter": {
    "hash": "7c82f87388e116e7d47ec96dbd0b5dbca2f32b31b33d99e95ca067855b0749dc"
   }
  }
 },
 "nbformat": 4,
 "nbformat_minor": 2
}
