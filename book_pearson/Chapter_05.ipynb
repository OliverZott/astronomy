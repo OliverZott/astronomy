{
 "cells": [
  {
   "cell_type": "markdown",
   "metadata": {},
   "source": [
    "# Chapter 5 - Light and matter\n",
    "(page 199)\n",
    " \n",
    " - Wavelength\n",
    " - Frequency\n",
    " - Energy"
   ]
  },
  {
   "cell_type": "code",
   "execution_count": 19,
   "metadata": {},
   "outputs": [],
   "source": [
    "from utils import celestial_objects as co\n",
    "from utils import constants, helpers\n",
    "import math\n",
    "import sys\n",
    "\n",
    "# sys.path.append('C:\\\\repos\\\\astronomy\\\\book_pearson\\\\utils') # windows\n",
    "sys.path.append(\"//home//olli//repos//astronomy//book_pearson//utils\")  # linux"
   ]
  },
  {
   "cell_type": "markdown",
   "metadata": {},
   "source": [
    " ## Example 5.1\n",
    " \n",
    "**Speed of light**\n",
    "$$\n",
    "\\begin{align}\n",
    "\\lambda * f = c\n",
    "\\end{align}\n",
    "$$\n",
    "\n",
    "\n",
    "**Radiant energy of photon**\n",
    "  \n",
    "$$\n",
    "\\begin{align}\n",
    "E = h * f\n",
    "\\end{align}\n",
    "$$"
   ]
  },
  {
   "cell_type": "code",
   "execution_count": 20,
   "metadata": {},
   "outputs": [],
   "source": [
    "def calc_wavelength_from_freq(radio_frequency: float) -> float:\n",
    "    \"\"\"\n",
    "    Input in MHz\n",
    "    \"\"\"\n",
    "    frequency = radio_frequency * 10**6\n",
    "    return constants._c / frequency\n",
    "\n",
    "\n",
    "def calc_freq_from_wavelength(arg: float) -> float:\n",
    "    \"\"\"\n",
    "    Input wavelength in nm\n",
    "    \"\"\"\n",
    "    wavelength = arg * 10**-9\n",
    "    return constants._c / wavelength\n",
    "\n",
    "\n",
    "def calc_energy_from_wavelength(arg: float) -> float:\n",
    "    \"\"\"\n",
    "    Input wavelength in nm\n",
    "    \"\"\"\n",
    "    wavelength = arg * 10**-9\n",
    "    return constants._h * constants._c / wavelength"
   ]
  },
  {
   "cell_type": "code",
   "execution_count": 21,
   "metadata": {},
   "outputs": [
    {
     "name": "stdout",
     "output_type": "stream",
     "text": [
      "3.21e+00\n",
      "5.45e+14\n",
      "3.61e-19\n",
      "3.6e-19\n"
     ]
    }
   ],
   "source": [
    "# Examples 5.1\n",
    "wave_length = calc_wavelength_from_freq(93.3)\n",
    "helpers.scientific_print(wave_length)\n",
    "\n",
    "frequency = calc_freq_from_wavelength(550)\n",
    "helpers.scientific_print(frequency)\n",
    "\n",
    "energy = calc_energy_from_wavelength(550)\n",
    "helpers.scientific_print(energy)\n",
    "print(\"{:.1e}\".format(energy))\n"
   ]
  }
 ],
 "metadata": {
  "kernelspec": {
   "display_name": "venv",
   "language": "python",
   "name": "python3"
  },
  "language_info": {
   "codemirror_mode": {
    "name": "ipython",
    "version": 3
   },
   "file_extension": ".py",
   "mimetype": "text/x-python",
   "name": "python",
   "nbconvert_exporter": "python",
   "pygments_lexer": "ipython3",
   "version": "3.11.2"
  },
  "orig_nbformat": 4
 },
 "nbformat": 4,
 "nbformat_minor": 2
}
