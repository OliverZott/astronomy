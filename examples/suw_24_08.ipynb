{
 "cells": [
  {
   "cell_type": "markdown",
   "metadata": {},
   "source": [
    "# SuW 2024 - 08\n",
    "\n",
    "https://simbad.cds.unistra.fr/simbad/\n",
    "https://simbad.cds.unistra.fr/simbad/sim-basic?Ident=BASW+1&submit=SIMBAD+search\n",
    "\n",
    "\n",
    "- [Exercises (Delta-Cepheids) p.24](#delta-cepheids)"
   ]
  },
  {
   "cell_type": "code",
   "execution_count": 16,
   "metadata": {},
   "outputs": [],
   "source": [
    "import numpy as np"
   ]
  },
  {
   "cell_type": "markdown",
   "metadata": {},
   "source": [
    "## Delta cepheids\n"
   ]
  },
  {
   "cell_type": "markdown",
   "metadata": {},
   "source": [
    "- **Radius** and **surface temperature** vary strictly (and therefore the luminosity)  (**Kappa Mechanism**)\n",
    "- typically 4 - 20 **sun masses**\n",
    "- typical **periods** of few days to months\n",
    "- longer period = higher luminosity\n",
    "- -> estimate abs. luminosity -> distance\n",
    "\n",
    "\n",
    "#### Period -Luminosity relation\n",
    "\n",
    "$$\n",
    "\\begin{align*}\n",
    "M_{V} = -2.78 \\cdot \\log_{10}\\left( P \\right) - 1.32 \\quad\\\\  \n",
    "\\end{align*} \\\\\n",
    "$$\n",
    "\n",
    "with:\n",
    "- $M_{V}$... absolute luminosity\n",
    "- $P$... period in days\n",
    "\n",
    "\n",
    "\n",
    "#### Distance modulus\n",
    "\n",
    "$$\n",
    "\\begin{align*}\n",
    "m - M = 5 \\cdot \\log_{10}\\left( d \\right) - 5 \\quad\\\\  \n",
    "\\end{align*} \\\\\n",
    "$$\n",
    "\n",
    "with:\n",
    "- $m$... relativer luminosity\n",
    "- $M$... absolute luminosity\n",
    "- $d$... distance in parsec\n"
   ]
  },
  {
   "cell_type": "code",
   "execution_count": 17,
   "metadata": {},
   "outputs": [
    {
     "data": {
      "text/plain": [
       "np.float64(-5.465985508859278)"
      ]
     },
     "metadata": {},
     "output_type": "display_data"
    },
    {
     "name": "stdout",
     "output_type": "stream",
     "text": [
      "-5.465985508859278\n"
     ]
    }
   ],
   "source": [
    "# 1.1 Estimate abs. luminosity by period chart\n",
    "\n",
    "h1_period = 31  # period in days\n",
    "\n",
    "\n",
    "# 1.2 Calculate aboslute luminosity\n",
    "\n",
    "\n",
    "def abs_luminosity_by_period(period: int) -> float:\n",
    "    \"\"\"Calculate absolute luminosity of delta cepehide by periode in days\n",
    "\n",
    "    Parameters\n",
    "    ----------\n",
    "    period : int\n",
    "        Period in days\n",
    "\n",
    "    Returns\n",
    "    -------\n",
    "    float\n",
    "        Absolute luminosity\n",
    "    \"\"\"\n",
    "    return -2.78 * np.log10(period) - 1.32\n",
    "\n",
    "\n",
    "H1_abs_lum = abs_luminosity_by_period(h1_period)\n",
    "\n",
    "display(H1_abs_lum)\n",
    "print(H1_abs_lum)"
   ]
  },
  {
   "cell_type": "code",
   "execution_count": 18,
   "metadata": {},
   "outputs": [
    {
     "name": "stdout",
     "output_type": "stream",
     "text": [
      "Distance of H1 in parsec: 7.820e+05\n",
      "Distance of H1 in light years: 2.549e+06\n"
     ]
    }
   ],
   "source": [
    "# 2.1 Estimate relative luminosity by chart\n",
    "\n",
    "H1_rel_luminosity = 18.3 + 0.7\n",
    "\n",
    "\n",
    "# 2.2 Calculate distance with distance-modulus formula\n",
    "\n",
    "\n",
    "def calc_dist_by_luminosity(abs_lum: float, rel_lum: float) -> float:\n",
    "    \"\"\"Calculates distance in parsec by given abs. and rel. luminosity\n",
    "\n",
    "    Parameters\n",
    "    ----------\n",
    "    abs_lum : float\n",
    "        Asbolute luminosity\n",
    "    rel_lum : float\n",
    "        Relative luminosity\n",
    "\n",
    "    Returns\n",
    "    -------\n",
    "    float\n",
    "        Distance in parsec\n",
    "    \"\"\"\n",
    "    d = 10 ** ((rel_lum - abs_lum + 5) / 5)\n",
    "    return d\n",
    "\n",
    "\n",
    "H1_dist_parsec = calc_dist_by_luminosity(H1_abs_lum, H1_rel_luminosity)\n",
    "\n",
    "\n",
    "print(f\"Distance of H1 in parsec: {H1_dist_parsec:.3e}\")\n",
    "print(f\"Distance of H1 in light years: {H1_dist_parsec*3.26:.3e}\")"
   ]
  }
 ],
 "metadata": {
  "kernelspec": {
   "display_name": "Python 3",
   "language": "python",
   "name": "python3"
  },
  "language_info": {
   "codemirror_mode": {
    "name": "ipython",
    "version": 3
   },
   "file_extension": ".py",
   "mimetype": "text/x-python",
   "name": "python",
   "nbconvert_exporter": "python",
   "pygments_lexer": "ipython3",
   "version": "3.12.5"
  }
 },
 "nbformat": 4,
 "nbformat_minor": 2
}
