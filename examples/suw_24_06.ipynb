{
 "cells": [
  {
   "cell_type": "markdown",
   "metadata": {},
   "source": [
    "# SuW 2024 - 06\n",
    "\n",
    "- planetary nebula\n",
    "- NGC 6543\n",
    "\n",
    "https://simbad.cds.unistra.fr/simbad/  \n",
    "\n",
    "\n",
    "- [Exercises (Katzenaugennebel) p.24](#katzenaugennebel)"
   ]
  },
  {
   "cell_type": "markdown",
   "metadata": {},
   "source": [
    "## Katzenaugennebel\n",
    "\n",
    "### Planetarische Nebel\n",
    "\n",
    "- kurze lebensdauer (Zahntausende Jahre)\n",
    "- Von Sternen mit Masse durchschnittlicher Masse (0.8 - 8 Sonnenmassen  ??) erzeugt. Am ende ihres Lebenszyklus wird Material abgestoßen und von Kern zum Leuchten angeregt.\n",
    "- Expansiongeschwindigkeit der abgestoßnene Hülle + Fotos über Jahre geben Aufschlss über Entfernung zur Erde.\n",
    "\n",
    "https://simbad.cds.unistra.fr/simbad/sim-basic?Ident=NGC+6543&submit=SIMBAD+search"
   ]
  },
  {
   "cell_type": "code",
   "execution_count": 59,
   "metadata": {},
   "outputs": [],
   "source": [
    "import math\n",
    "\n",
    "c = 299792458  # speed of light [m/s]\n",
    "y = 60 * 60 * 24 * 365  # year [s]\n",
    "ly = c * y  # light year [m]\n",
    "\n",
    "\n",
    "ngc6543_radius = 0.15 * ly  # diameter of ngc6543 [m]\n",
    "ngc6543_radius_arcsec = 7.2 * 10**-3  # diameter of ngc6543 in arcsec\n",
    "ngc6543_expansion_rate = 16.4 * 10**3  # expansion rate of ngc6543 [m/s]\n",
    "\n",
    "\n",
    "mass_loss_per_sec = 2 * 10**16\n",
    "earth_mass = 2 * 10**30"
   ]
  },
  {
   "cell_type": "code",
   "execution_count": 60,
   "metadata": {},
   "outputs": [
    {
     "name": "stdout",
     "output_type": "stream",
     "text": [
      "Age in seconds: 8.65e+10 seconds\n",
      "Age in years: 2742 years\n"
     ]
    }
   ],
   "source": [
    "# Exercise 1 - Age of NGC 6543 based on expansion rate\n",
    "ngc6543_age = ngc6543_radius / ngc6543_expansion_rate\n",
    "\n",
    "\n",
    "# print(format(ngc6543_age, \".2e\"))\n",
    "print(f\"Age in seconds: {ngc6543_age:.2e} seconds\")\n",
    "print(f\"Age in years: {int(ngc6543_age/ (y))} years\")"
   ]
  },
  {
   "cell_type": "code",
   "execution_count": 61,
   "metadata": {},
   "outputs": [
    {
     "name": "stdout",
     "output_type": "stream",
     "text": [
      "Mass loss of NGC 6543: 1.73e+27 kg\n",
      "Mass loss of NGC 6543: 8.65e-04 earth masses\n"
     ]
    }
   ],
   "source": [
    "# Exercise 2 - Total mass loss NGC 6543\n",
    "\n",
    "ngc6543_massloss = mass_loss_per_sec * ngc6543_age\n",
    "\n",
    "print(f\"Mass loss of NGC 6543: {ngc6543_massloss:.2e} kg\")\n",
    "print(f\"Mass loss of NGC 6543: {ngc6543_massloss/earth_mass:.2e} earth masses\")\n"
   ]
  },
  {
   "cell_type": "code",
   "execution_count": 62,
   "metadata": {},
   "outputs": [
    {
     "name": "stdout",
     "output_type": "stream",
     "text": [
      "Expansion of NGC 6543 per year: 5.17e+11 m\n",
      "Radius of NGC 6543 in degrees: 1.00e-06 degrees\n",
      "Distance of NGC 6543: 1.29e+17 m\n",
      "Distance of NGC 6543: 1.37e+01 ly\n"
     ]
    }
   ],
   "source": [
    "# Exercise 3 - distance of NGC 6543\n",
    "\n",
    "# Yearly expansion\n",
    "expansion_per_year = ngc6543_expansion_rate * y\n",
    "print(f\"Expansion of NGC 6543 per year: {expansion_per_year:.2e} m\")\n",
    "\n",
    "\n",
    "# Convert 7.2 arc seconds to degrees 1\n",
    "ngc6543_halfradius_deg = ngc6543_radius_arcsec / (2 * 3600)\n",
    "print(f\"Radius of NGC 6543 in degrees: {ngc6543_halfradius_deg:.2e} degrees\")\n",
    "\n",
    "# tan arcsec/2 = delta_R / 2d\n",
    "\n",
    "d = (expansion_per_year / 2) / (2 * math.tan(ngc6543_halfradius_deg))\n",
    "print(f\"Distance of NGC 6543: {d:.2e} m\")\n",
    "print(f\"Distance of NGC 6543: {d/ly:.2e} ly\")\n"
   ]
  },
  {
   "cell_type": "code",
   "execution_count": 63,
   "metadata": {},
   "outputs": [
    {
     "name": "stdout",
     "output_type": "stream",
     "text": [
      "Distance of ngc6543: 1365.934[pc], 4452.944[ly]\n"
     ]
    }
   ],
   "source": [
    "# Compared with distance by parallaxe\n",
    "\n",
    "ngc6543_paralax = 0.7321 * 10 ** (-3)  # ngc6543_paralax ... Parallaxes (mas)\n",
    "\n",
    "ngc6543_distance_pc = 1 / ngc6543_paralax\n",
    "\n",
    "print(f\"Distance of ngc6543: {ngc6543_distance_pc:.3f}[pc], {ngc6543_distance_pc*3.26:.3f}[ly]\")"
   ]
  }
 ],
 "metadata": {
  "kernelspec": {
   "display_name": "Python 3",
   "language": "python",
   "name": "python3"
  },
  "language_info": {
   "codemirror_mode": {
    "name": "ipython",
    "version": 3
   },
   "file_extension": ".py",
   "mimetype": "text/x-python",
   "name": "python",
   "nbconvert_exporter": "python",
   "pygments_lexer": "ipython3",
   "version": "3.12.6"
  }
 },
 "nbformat": 4,
 "nbformat_minor": 2
}
