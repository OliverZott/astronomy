{
 "cells": [
  {
   "cell_type": "markdown",
   "metadata": {},
   "source": [
    "# SuW 2024 - 06\n",
    "\n",
    "- planetary nebula\n",
    "- NGC 6543\n",
    "\n",
    "https://simbad.cds.unistra.fr/simbad/  \n",
    "\n",
    "\n",
    "- [Exercises (Katzenaugennebel) p.24](#katzenaugennebel)"
   ]
  },
  {
   "cell_type": "markdown",
   "metadata": {},
   "source": [
    "## Katzenaugennebel\n",
    "\n",
    "### Planetarische Nebel\n",
    "\n",
    "- kurze lebensdauer (Zahntausende Jahre)\n",
    "- Von Sternen mit Masse durchschnittlicher Masse (0.8 - 8 Sonnenmassen  ??) erzeugt. Am ende ihres Lebenszyklus wird Material abgestoßen und von Kern zum Leuchten angeregt.\n",
    "- Expansiongeschwindigkeit der abgestoßnene Hülle + Fotos über Jahre geben Aufschlss über Entfernung zur Erde.\n",
    "\n",
    "https://simbad.cds.unistra.fr/simbad/sim-basic?Ident=NGC+6543&submit=SIMBAD+search"
   ]
  },
  {
   "cell_type": "code",
   "execution_count": 21,
   "metadata": {},
   "outputs": [],
   "source": [
    "c = 299792458  # speed of light [m/s]\n",
    "y = 60 * 60 * 24 * 365  # year [s]\n",
    "ly = c * y  # light year [m]\n",
    "\n",
    "\n",
    "ngc6543_radius = 0.15 * ly  # diameter of ngc6543 [m]\n",
    "ngc6543_expansion_rate = 16.4 * 10**3  # expansion rate of ngc6543 [m/s]"
   ]
  },
  {
   "cell_type": "code",
   "execution_count": 22,
   "metadata": {},
   "outputs": [
    {
     "data": {
      "text/plain": [
       "86471844105.07317"
      ]
     },
     "metadata": {},
     "output_type": "display_data"
    },
    {
     "data": {
      "text/plain": [
       "2742.00418902439"
      ]
     },
     "metadata": {},
     "output_type": "display_data"
    }
   ],
   "source": [
    "ngc6543_age = ngc6543_radius / ngc6543_expansion_rate\n",
    "\n",
    "\n",
    "display(ngc6543_age)\n",
    "display(ngc6543_age / (y))\n"
   ]
  },
  {
   "cell_type": "code",
   "execution_count": 23,
   "metadata": {},
   "outputs": [
    {
     "data": {
      "text/plain": [
       "9454254955488000"
      ]
     },
     "execution_count": 23,
     "metadata": {},
     "output_type": "execute_result"
    }
   ],
   "source": [
    "ly\n"
   ]
  },
  {
   "cell_type": "code",
   "execution_count": null,
   "metadata": {},
   "outputs": [],
   "source": []
  }
 ],
 "metadata": {
  "kernelspec": {
   "display_name": "Python 3",
   "language": "python",
   "name": "python3"
  },
  "language_info": {
   "codemirror_mode": {
    "name": "ipython",
    "version": 3
   },
   "file_extension": ".py",
   "mimetype": "text/x-python",
   "name": "python",
   "nbconvert_exporter": "python",
   "pygments_lexer": "ipython3",
   "version": "3.12.4"
  }
 },
 "nbformat": 4,
 "nbformat_minor": 2
}
